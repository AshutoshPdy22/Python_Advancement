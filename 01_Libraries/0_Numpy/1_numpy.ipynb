{
  "nbformat": 4,
  "nbformat_minor": 0,
  "metadata": {
    "colab": {
      "provenance": [],
      "authorship_tag": "ABX9TyMKFr0NCRXy9jZJbi4Xjs/n",
      "include_colab_link": true
    },
    "kernelspec": {
      "name": "python3",
      "display_name": "Python 3"
    },
    "language_info": {
      "name": "python"
    }
  },
  "cells": [
    {
      "cell_type": "markdown",
      "metadata": {
        "id": "view-in-github",
        "colab_type": "text"
      },
      "source": [
        "<a href=\"https://colab.research.google.com/github/AshutoshPdy22/Python_Advancement/blob/main/01_Libraries/0_Numpy/1_numpy.ipynb\" target=\"_parent\"><img src=\"https://colab.research.google.com/assets/colab-badge.svg\" alt=\"Open In Colab\"/></a>"
      ]
    },
    {
      "cell_type": "markdown",
      "source": [
        "#Array Module\n"
      ],
      "metadata": {
        "id": "E6qmk1D9ZYqu"
      }
    },
    {
      "cell_type": "code",
      "execution_count": null,
      "metadata": {
        "id": "3UsCUnT6ZXVe"
      },
      "outputs": [],
      "source": [
        "import array\n",
        "a = array.array ('i',[1,5,10])"
      ]
    },
    {
      "cell_type": "markdown",
      "source": [
        "'i' refers to specify type of element\n",
        "\n"
      ],
      "metadata": {
        "id": "EM3tz7j4Z4Sx"
      }
    },
    {
      "cell_type": "code",
      "source": [
        "print(\"only 2 index\",a [2])\n",
        "print(\"only -2 index\",a [-2])\n",
        "print(\"all numbers is \")\n",
        "for i in a:\n",
        "  print (i)"
      ],
      "metadata": {
        "colab": {
          "base_uri": "https://localhost:8080/"
        },
        "id": "we8CpebRZ2Fe",
        "outputId": "727a7764-9f04-4e05-ada2-83154d530f20"
      },
      "execution_count": null,
      "outputs": [
        {
          "output_type": "stream",
          "name": "stdout",
          "text": [
            "only 2 index 10\n",
            "only -2 index 5\n",
            "all numbers is \n",
            "1\n",
            "5\n",
            "10\n"
          ]
        }
      ]
    },
    {
      "cell_type": "markdown",
      "source": [
        "- In python array support only 1D array\n",
        "- Array can cantain only homogeneous data (same data)\n",
        "- We have to specify type as well"
      ],
      "metadata": {
        "id": "P_fKmK1DbgtF"
      }
    },
    {
      "cell_type": "code",
      "source": [
        "print(a) #Not want this array('i', [])"
      ],
      "metadata": {
        "colab": {
          "base_uri": "https://localhost:8080/"
        },
        "id": "aiGb-eXWcLNA",
        "outputId": "e18f7c12-a2dd-49d0-bcbd-c50c81543b1e"
      },
      "execution_count": null,
      "outputs": [
        {
          "output_type": "stream",
          "name": "stdout",
          "text": [
            "array('i', [1, 5, 10])\n"
          ]
        }
      ]
    },
    {
      "cell_type": "code",
      "source": [
        "print(*a) #only main data"
      ],
      "metadata": {
        "colab": {
          "base_uri": "https://localhost:8080/"
        },
        "id": "Dk7VLiHgdH_d",
        "outputId": "10ef72e2-452a-4830-ba87-99679acbc504"
      },
      "execution_count": null,
      "outputs": [
        {
          "output_type": "stream",
          "name": "stdout",
          "text": [
            "1 5 20 20 20 20 20 20\n"
          ]
        }
      ]
    },
    {
      "cell_type": "code",
      "source": [
        "a.append(20) #how many time you run it, data got append again & again\n",
        "print(*a)"
      ],
      "metadata": {
        "colab": {
          "base_uri": "https://localhost:8080/"
        },
        "id": "bKcI_lnDdpTr",
        "outputId": "297e7b07-794a-4bd4-e6b6-42b986b2f9e9"
      },
      "execution_count": null,
      "outputs": [
        {
          "output_type": "stream",
          "name": "stdout",
          "text": [
            "1 5 10 20 20 20 20 20 20\n"
          ]
        }
      ]
    },
    {
      "cell_type": "code",
      "source": [
        "a.pop(3) #how many time you run it, data got pop again & again\n",
        "print(*a)"
      ],
      "metadata": {
        "colab": {
          "base_uri": "https://localhost:8080/"
        },
        "id": "4l_jI0UQfyMd",
        "outputId": "28ba8f89-0dd8-49fb-a215-e602daacdf0b"
      },
      "execution_count": null,
      "outputs": [
        {
          "output_type": "stream",
          "name": "stdout",
          "text": [
            "1 5 10 20 20\n"
          ]
        }
      ]
    },
    {
      "cell_type": "markdown",
      "source": [
        "- pop (need index)\n",
        "- del (need index)\n",
        "- remove (need value)"
      ],
      "metadata": {
        "id": "kerJHo1ggKgH"
      }
    },
    {
      "cell_type": "markdown",
      "source": [
        "- insert (index, value) #a.insert(0,4)\n",
        "- append (value) #a.append(80) -->by defualt add at last"
      ],
      "metadata": {
        "id": "BBmiEM9Jg2Xd"
      }
    },
    {
      "cell_type": "code",
      "source": [
        "print(*a[1:3])#slicing [staring to end]\n",
        "print(*a[1:7:2])#slicing [staring to end with step]\n",
        "print(*a[::-1])#slicing [nul to nul with step from last index]"
      ],
      "metadata": {
        "id": "lAm-ohlngmoI",
        "colab": {
          "base_uri": "https://localhost:8080/"
        },
        "outputId": "8fabcdef-63ad-4935-94e2-28d25003247c"
      },
      "execution_count": null,
      "outputs": [
        {
          "output_type": "stream",
          "name": "stdout",
          "text": [
            "5 10\n",
            "5 20\n",
            "20 20 10 5 1\n"
          ]
        }
      ]
    },
    {
      "cell_type": "code",
      "source": [
        "30 in a #find is element is presnt in array"
      ],
      "metadata": {
        "colab": {
          "base_uri": "https://localhost:8080/"
        },
        "id": "kSKChDhCIcF4",
        "outputId": "02109eb3-a970-4ffb-857b-60ab2d17ef17"
      },
      "execution_count": null,
      "outputs": [
        {
          "output_type": "execute_result",
          "data": {
            "text/plain": [
              "False"
            ]
          },
          "metadata": {},
          "execution_count": 5
        }
      ]
    },
    {
      "cell_type": "code",
      "source": [
        "a.count(20)"
      ],
      "metadata": {
        "id": "8lxq9zsW3kIh"
      },
      "execution_count": null,
      "outputs": []
    },
    {
      "cell_type": "code",
      "source": [
        "a.extend([1,2,3,4]) # add new array list with old list\n",
        "print(a)"
      ],
      "metadata": {
        "colab": {
          "base_uri": "https://localhost:8080/"
        },
        "id": "I671Vr5T3sCM",
        "outputId": "a5533ec3-2808-454d-927f-8f58743019f7"
      },
      "execution_count": null,
      "outputs": [
        {
          "output_type": "stream",
          "name": "stdout",
          "text": [
            "array('i', [1, 5, 10, 1, 2, 3, 4])\n"
          ]
        }
      ]
    },
    {
      "cell_type": "markdown",
      "source": [
        "## 🔹 Basic Data Types in NumPy (`dtype`)\n",
        "\n",
        "| Data Type | dtype Code | Example Values |\n",
        "|-----------|------------|---------------|\n",
        "| **Integer (Signed)** | `'i'`, `'i4'`, `'i8'` | `0, -1, 42, 1000` |\n",
        "| **Unsigned Integer** | `'u1'`, `'u4'`, `'u8'` | `0, 1, 255` |\n",
        "| **Float (Decimal Numbers)** | `'f'`, `'f4'`, `'f8'` | `3.14, -2.5, 0.001` |\n",
        "| **Boolean** | `'?'` | `True, False` |\n",
        "| **String (Fixed Length)** | `'U10'`, `'S20'` | `\"hello\"`, `\"AI-ML\"` |\n",
        "| **Complex Numbers** | `'c8'`, `'c16'` | `3 + 2j, 1.5 - 0.5j` |\n",
        "\n",
        "---\n",
        "\n",
        "## 🔹 Detailed `dtype` Codes\n",
        "\n",
        "Each `dtype` has a size indicator:\n",
        "\n",
        "| Code | Type | Size (Bytes) |\n",
        "|------|------|-------------|\n",
        "| `'i1'` | Integer | 1 byte (8-bit) |\n",
        "| `'i2'` | Integer | 2 bytes (16-bit) |\n",
        "| `'i4'` | Integer | 4 bytes (32-bit) |\n",
        "| `'i8'` | Integer | 8 bytes (64-bit) |\n",
        "| `'f4'` | Float | 4 bytes (32-bit) |\n",
        "| `'f8'` | Float | 8 bytes (64-bit) |\n",
        "| `'U10'` | Unicode String | 10 characters |\n",
        "\n",
        "---"
      ],
      "metadata": {
        "id": "nh7lpYAdGEqh"
      }
    }
  ]
}