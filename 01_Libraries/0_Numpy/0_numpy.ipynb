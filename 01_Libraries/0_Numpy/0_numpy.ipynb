{
  "nbformat": 4,
  "nbformat_minor": 0,
  "metadata": {
    "colab": {
      "provenance": [],
      "authorship_tag": "ABX9TyN4XBSLXpPSmZxuJF9Im8AX",
      "include_colab_link": true
    },
    "kernelspec": {
      "name": "python3",
      "display_name": "Python 3"
    },
    "language_info": {
      "name": "python"
    }
  },
  "cells": [
    {
      "cell_type": "markdown",
      "metadata": {
        "id": "view-in-github",
        "colab_type": "text"
      },
      "source": [
        "<a href=\"https://colab.research.google.com/github/AshutoshPdy22/Python_Advancement/blob/main/01_Libraries/0_Numpy/0_numpy.ipynb\" target=\"_parent\"><img src=\"https://colab.research.google.com/assets/colab-badge.svg\" alt=\"Open In Colab\"/></a>"
      ]
    },
    {
      "cell_type": "markdown",
      "source": [
        "# numpy :-\n",
        "numerical python (AI is all about numerical computions). Numpy is a python library for calculation. It store data in n number of dimensional array. NumPy provides a C-API to enable users to extend the system and get access to the array object for use"
      ],
      "metadata": {
        "id": "r-cHRpctUiBl"
      }
    },
    {
      "cell_type": "markdown",
      "source": [
        "#why we use numpy when we have list[] for data structure -- numpy is more efficient here is example"
      ],
      "metadata": {
        "id": "JztCSWupViMn"
      }
    },
    {
      "cell_type": "code",
      "execution_count": null,
      "metadata": {
        "id": "RbR4WOnUUZ1z"
      },
      "outputs": [],
      "source": [
        "import time\n",
        "n = 10000\n",
        "# complex dimensional data\n",
        "m1 = [ [e for e in range (n)] for i in range (n) ]\n",
        "m2 = [ [e for e in range (n)] for i in range (n) ]"
      ]
    },
    {
      "cell_type": "code",
      "source": [
        "# 1st do with list (check time taking)\n",
        "start=time.time()\n",
        "for i in range (n):\n",
        "    for j in range (n):\n",
        "        m1[i][j] + m2[i][j]\n",
        "end=time.time()\n",
        "print(\"by list\",end-start)"
      ],
      "metadata": {
        "colab": {
          "base_uri": "https://localhost:8080/"
        },
        "id": "EGY9E-ITVswf",
        "outputId": "40aa9895-87f2-4006-de67-070008cc253c"
      },
      "execution_count": null,
      "outputs": [
        {
          "output_type": "stream",
          "name": "stdout",
          "text": [
            "by list 19.548102855682373\n"
          ]
        }
      ]
    },
    {
      "cell_type": "code",
      "source": [
        "# 2nd do with numpy (check  time taking)\n",
        "import numpy as np\n",
        "start1=time.time()\n",
        "m1 = np.array(m1)\n",
        "m2 = np.array(m2)\n",
        "m1+m2\n",
        "end1=time.time()\n",
        "print(\"by numpy\",end1-start1)"
      ],
      "metadata": {
        "colab": {
          "base_uri": "https://localhost:8080/"
        },
        "id": "qwsAHDDUVxtw",
        "outputId": "6e4ddc80-a6e4-4944-c400-e480001ca85c"
      },
      "execution_count": null,
      "outputs": [
        {
          "output_type": "stream",
          "name": "stdout",
          "text": [
            "by numpy 1.0231897830963135\n"
          ]
        }
      ]
    }
  ]
}