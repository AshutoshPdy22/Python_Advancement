{
  "nbformat": 4,
  "nbformat_minor": 0,
  "metadata": {
    "colab": {
      "provenance": [],
      "authorship_tag": "ABX9TyPpA9bmtb99eFsuyQRwyKSG",
      "include_colab_link": true
    },
    "kernelspec": {
      "name": "python3",
      "display_name": "Python 3"
    },
    "language_info": {
      "name": "python"
    }
  },
  "cells": [
    {
      "cell_type": "markdown",
      "metadata": {
        "id": "view-in-github",
        "colab_type": "text"
      },
      "source": [
        "<a href=\"https://colab.research.google.com/github/AshutoshPdy22/Python_Advancement/blob/main/01_Libraries/0_Numpy/Numpy.ipynb\" target=\"_parent\"><img src=\"https://colab.research.google.com/assets/colab-badge.svg\" alt=\"Open In Colab\"/></a>"
      ]
    },
    {
      "cell_type": "markdown",
      "source": [
        "## Numpy is a python library which can solve matrices and vector problems. Numpy is form with c++ because it is a most closer to machine level language after 'c' then it transform into API of Python for uses of developer.\n",
        "[1,2,3,4,5] --> 1D-array or vector or a list.\n",
        "\n",
        "[\n",
        "\n",
        "  [1,2,3],    ----> matrix\n",
        "\n",
        "  [4,5,6],\n",
        "\n",
        "]\n",
        "--------------"
      ],
      "metadata": {
        "id": "vdtUyN2t8L1Z"
      }
    },
    {
      "cell_type": "code",
      "source": [
        "import numpy as np"
      ],
      "metadata": {
        "id": "wkpizS3k_T3m"
      },
      "execution_count": 1,
      "outputs": []
    },
    {
      "cell_type": "code",
      "execution_count": 2,
      "metadata": {
        "id": "LY4qvy5V3-zp",
        "outputId": "4631f10a-55d2-4c16-b1c4-4bc22507ec39",
        "colab": {
          "base_uri": "https://localhost:8080/"
        }
      },
      "outputs": [
        {
          "output_type": "stream",
          "name": "stdout",
          "text": [
            "\n",
            " 1D array:  [1 2 3 4 5]\n"
          ]
        }
      ],
      "source": [
        "array_1d= np.array([1,2,3,4,5])\n",
        "print (\"\\n 1D array: \",array_1d)"
      ]
    },
    {
      "cell_type": "code",
      "source": [
        "array_2d= np.array([1,2,3],[4,5,6])\n",
        "print (\"\\n 2D array: \",array_2d)"
      ],
      "metadata": {
        "id": "yzq-GLjI_Q9K",
        "outputId": "8992923a-3bae-495d-b54c-584984f3321a",
        "colab": {
          "base_uri": "https://localhost:8080/",
          "height": 174
        }
      },
      "execution_count": 3,
      "outputs": [
        {
          "output_type": "error",
          "ename": "TypeError",
          "evalue": "Field elements must be 2- or 3-tuples, got '4'",
          "traceback": [
            "\u001b[0;31m---------------------------------------------------------------------------\u001b[0m",
            "\u001b[0;31mTypeError\u001b[0m                                 Traceback (most recent call last)",
            "\u001b[0;32m<ipython-input-3-29faff7eef66>\u001b[0m in \u001b[0;36m<cell line: 0>\u001b[0;34m()\u001b[0m\n\u001b[0;32m----> 1\u001b[0;31m \u001b[0marray_2d\u001b[0m\u001b[0;34m=\u001b[0m \u001b[0mnp\u001b[0m\u001b[0;34m.\u001b[0m\u001b[0marray\u001b[0m\u001b[0;34m(\u001b[0m\u001b[0;34m[\u001b[0m\u001b[0;36m1\u001b[0m\u001b[0;34m,\u001b[0m\u001b[0;36m2\u001b[0m\u001b[0;34m,\u001b[0m\u001b[0;36m3\u001b[0m\u001b[0;34m]\u001b[0m\u001b[0;34m,\u001b[0m\u001b[0;34m[\u001b[0m\u001b[0;36m4\u001b[0m\u001b[0;34m,\u001b[0m\u001b[0;36m5\u001b[0m\u001b[0;34m,\u001b[0m\u001b[0;36m6\u001b[0m\u001b[0;34m]\u001b[0m\u001b[0;34m)\u001b[0m\u001b[0;34m\u001b[0m\u001b[0;34m\u001b[0m\u001b[0m\n\u001b[0m\u001b[1;32m      2\u001b[0m \u001b[0mprint\u001b[0m \u001b[0;34m(\u001b[0m\u001b[0;34m\"\\n 2D array: \"\u001b[0m\u001b[0;34m,\u001b[0m\u001b[0marray_2d\u001b[0m\u001b[0;34m)\u001b[0m\u001b[0;34m\u001b[0m\u001b[0;34m\u001b[0m\u001b[0m\n",
            "\u001b[0;31mTypeError\u001b[0m: Field elements must be 2- or 3-tuples, got '4'"
          ]
        }
      ]
    },
    {
      "cell_type": "markdown",
      "source": [
        "👆In making of 2d array got an error becuase we not lock both 2 array into single array for making 1 unit.👇"
      ],
      "metadata": {
        "id": "FLQs8FBs_lXc"
      }
    },
    {
      "cell_type": "code",
      "source": [
        "array_2d= np.array([[1,2,3],[4,5,6]])\n",
        "print (\"\\n 2D array: \",array_2d)"
      ],
      "metadata": {
        "id": "W3SqMpDkBD25",
        "outputId": "6994a3d1-8b6e-4211-fa4a-1a3fa7599331",
        "colab": {
          "base_uri": "https://localhost:8080/"
        }
      },
      "execution_count": 5,
      "outputs": [
        {
          "output_type": "stream",
          "name": "stdout",
          "text": [
            "\n",
            " 2D array:  [[1 2 3]\n",
            " [4 5 6]]\n"
          ]
        }
      ]
    },
    {
      "cell_type": "markdown",
      "source": [
        "# list vs Numpy array :-\n"
      ],
      "metadata": {
        "id": "mhddUeV0AYD1"
      }
    },
    {
      "cell_type": "code",
      "source": [
        "py_list = [1,2,3] # double the data\n",
        "print (py_list * 2)"
      ],
      "metadata": {
        "id": "CDOm34qnAktI",
        "outputId": "3e23a439-8dac-4e68-9833-7429857d44e2",
        "colab": {
          "base_uri": "https://localhost:8080/"
        }
      },
      "execution_count": 4,
      "outputs": [
        {
          "output_type": "stream",
          "name": "stdout",
          "text": [
            "[1, 2, 3, 1, 2, 3]\n"
          ]
        }
      ]
    },
    {
      "cell_type": "markdown",
      "source": [
        "👆It an pyhton list multiplication (* 2 means scaler in Programming commity.)\n"
      ],
      "metadata": {
        "id": "mzX6vb_nBOOD"
      }
    },
    {
      "cell_type": "code",
      "source": [
        "np_array = np.array([1,2,3]) #element wise multiplication\n",
        "print (\"\\n python array multiplication\", np_array * 2)"
      ],
      "metadata": {
        "id": "-Xt8ZCRiBtTX",
        "outputId": "658edec2-ec61-4b7c-f789-27856e45af50",
        "colab": {
          "base_uri": "https://localhost:8080/"
        }
      },
      "execution_count": 9,
      "outputs": [
        {
          "output_type": "stream",
          "name": "stdout",
          "text": [
            "\n",
            " python array multiplication [2 4 6]\n"
          ]
        }
      ]
    },
    {
      "cell_type": "markdown",
      "source": [
        "In first one old pc an handle the task but in second part when scaler or dimension increase this size on that time machine or a PC need havey power"
      ],
      "metadata": {
        "id": "mjo1CODMDdbr"
      }
    },
    {
      "cell_type": "code",
      "source": [],
      "metadata": {
        "id": "yLTsk5VYELLh"
      },
      "execution_count": null,
      "outputs": []
    }
  ]
}