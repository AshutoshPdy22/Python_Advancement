{
  "nbformat": 4,
  "nbformat_minor": 0,
  "metadata": {
    "colab": {
      "provenance": [],
      "authorship_tag": "ABX9TyPfUxSFsBlh2XbQXxX27kvo",
      "include_colab_link": true
    },
    "kernelspec": {
      "name": "python3",
      "display_name": "Python 3"
    },
    "language_info": {
      "name": "python"
    }
  },
  "cells": [
    {
      "cell_type": "markdown",
      "metadata": {
        "id": "view-in-github",
        "colab_type": "text"
      },
      "source": [
        "<a href=\"https://colab.research.google.com/github/AshutoshPdy22/Python_Advancement/blob/main/01_Libraries/0_Numpy/2_numpy.ipynb\" target=\"_parent\"><img src=\"https://colab.research.google.com/assets/colab-badge.svg\" alt=\"Open In Colab\"/></a>"
      ]
    },
    {
      "cell_type": "code",
      "execution_count": null,
      "metadata": {
        "id": "EIN7Ti03CkuG"
      },
      "outputs": [],
      "source": [
        "import numpy as np\n",
        "a = np.array([1,2,4,6,44,3]) #numpy array can be store in list style\n",
        "b = np.array((1,2,4,6,4,33)) #numpy array can be store in tuple style"
      ]
    },
    {
      "cell_type": "code",
      "source": [
        "print(*a)\n",
        "print(*b)"
      ],
      "metadata": {
        "colab": {
          "base_uri": "https://localhost:8080/"
        },
        "id": "sVv4vQnCC-KR",
        "outputId": "265b04c2-be2b-4509-aa63-c98f002755a2"
      },
      "execution_count": null,
      "outputs": [
        {
          "output_type": "stream",
          "name": "stdout",
          "text": [
            "1 2 4 6 44 3\n",
            "1 2 4 6 4 33\n"
          ]
        }
      ]
    },
    {
      "cell_type": "code",
      "source": [
        "print(type(a))\n",
        "print(type(b))"
      ],
      "metadata": {
        "colab": {
          "base_uri": "https://localhost:8080/"
        },
        "id": "McjV7tiTGAlb",
        "outputId": "388d68f4-06b5-4a45-bbd9-f74ad9a96348"
      },
      "execution_count": null,
      "outputs": [
        {
          "output_type": "stream",
          "name": "stdout",
          "text": [
            "<class 'numpy.ndarray'>\n",
            "<class 'numpy.ndarray'>\n"
          ]
        }
      ]
    },
    {
      "cell_type": "markdown",
      "source": [
        "## Wrong approach of storing data in np array without define data-type eg :-"
      ],
      "metadata": {
        "id": "Tkc_YodYIx40"
      }
    },
    {
      "cell_type": "code",
      "source": [
        "a1 = np.array ([(\"priya\",\"22\",\"BCA\"),(\"Ash\",\"23\",\"BCA\")])\n",
        "a2 = np.array ([[\"priya\",\"22\",\"BCA\"],[\"Ash\",\"23\",\"BCA\"]])\n",
        "print(a1[0])\n",
        "print(a1[0][0])\n",
        "print(a2[0])\n",
        "print(a2[0][0])"
      ],
      "metadata": {
        "colab": {
          "base_uri": "https://localhost:8080/"
        },
        "id": "wDCOfSpLJTFu",
        "outputId": "5ec493f9-40bc-4ba5-95c5-6061d9c4409a"
      },
      "execution_count": null,
      "outputs": [
        {
          "output_type": "stream",
          "name": "stdout",
          "text": [
            "['priya' '22' 'BCA']\n",
            "priya\n",
            "['priya' '22' 'BCA']\n",
            "priya\n"
          ]
        }
      ]
    },
    {
      "cell_type": "markdown",
      "source": [
        "## correct practice of storing data in np array with define data-type eg :-"
      ],
      "metadata": {
        "id": "HD9pKWpALSNp"
      }
    },
    {
      "cell_type": "code",
      "source": [
        "a11 = np.array ([(\"priya\",\"12\",\"BCA\"),(\"Ash\",\"23\",\"BCA\")], dtype=[('name','U10'),('age','i1'),('coures','U10')])\n",
        "print(a11[0])\n",
        "print (a11['name'])\n",
        "a11[0]['age']=20 #if want to change every data age then not pass parameter[],a11['age']=21\n",
        "print(a11)"
      ],
      "metadata": {
        "colab": {
          "base_uri": "https://localhost:8080/"
        },
        "id": "X9aQwr-4LdTa",
        "outputId": "9f23d37f-27f1-4364-e541-821cf0a010b8"
      },
      "execution_count": null,
      "outputs": [
        {
          "output_type": "stream",
          "name": "stdout",
          "text": [
            "('priya', 12, 'BCA')\n",
            "['priya' 'Ash']\n",
            "[('priya', 20, 'BCA') ('Ash', 23, 'BCA')]\n"
          ]
        }
      ]
    },
    {
      "cell_type": "markdown",
      "source": [
        "## Different type of data-type entery:-"
      ],
      "metadata": {
        "id": "oxozCOSnCSiX"
      }
    },
    {
      "cell_type": "code",
      "source": [
        "a12 = np.array ([(\"priya\",\"12\",\"BCA\"),(\"Ash\",\"23\",\"BCA\")], dtype=('U10,i1,U10'))\n",
        "a13 = np.array ([(\"priya\",\"12\",\"BCA\"),(\"Ash\",\"23\",\"BCA\")], dtype={'names':['name','age','course'],'formats':['U10','i1','U10']})\n",
        "a14 = np.array ([(\"priya\",\"12\",\"BCA\"),(\"Ash\",\"23\",\"BCA\")], dtype={'name':('U10',0),'age':('i1',1),'course':('U10',2)}) #useless way"
      ],
      "metadata": {
        "id": "rHI4CsIgDcsF"
      },
      "execution_count": null,
      "outputs": []
    },
    {
      "cell_type": "code",
      "source": [
        "print(a12)\n",
        "print(a13)\n",
        "print(*a14)"
      ],
      "metadata": {
        "colab": {
          "base_uri": "https://localhost:8080/"
        },
        "id": "kWSVBVpDKRkl",
        "outputId": "677d8e95-ea84-4be4-b701-f5b6152893ee"
      },
      "execution_count": null,
      "outputs": [
        {
          "output_type": "stream",
          "name": "stdout",
          "text": [
            "[('priya', 12, 'BCA') ('Ash', 23, 'BCA')]\n",
            "[('priya', 12, 'BCA') ('Ash', 23, 'BCA')]\n",
            "('\\U00420c70\\U00430000\\U00410000', 12, 'BCA') ('\\U00421741\\U00430000\\U00410000', 23, 'BCA')\n"
          ]
        }
      ]
    }
  ]
}